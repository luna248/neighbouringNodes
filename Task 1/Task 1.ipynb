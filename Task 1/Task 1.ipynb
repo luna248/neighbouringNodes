{
 "cells": [
  {
   "cell_type": "code",
   "execution_count": 37,
   "metadata": {
    "collapsed": true
   },
   "outputs": [],
   "source": [
    "from math import sqrt\n",
    "from enum import Enum"
   ]
  },
  {
   "cell_type": "code",
   "execution_count": 62,
   "metadata": {
    "collapsed": true
   },
   "outputs": [],
   "source": [
    "class neighbouringNodes:\n",
    "    \n",
    "    def __init__(self, size, debug):\n",
    "        self.size = size\n",
    "        self.debug = debug\n",
    "    \n",
    "    def constructGrid(self):\n",
    "        grid = []\n",
    "        count = 1\n",
    "        for i in range(self.size):\n",
    "            row = []\n",
    "            for j in range(self.size):\n",
    "                row.append(node(i,j,count))\n",
    "                count+=1\n",
    "            grid.append(row)             \n",
    "        \n",
    "        if self.debug:\n",
    "            for i in range(self.size):\n",
    "                for j in range(self.size):\n",
    "                    print(grid[i][j].printCoordinates(), end=\" \")\n",
    "                print(\"\\n\") \n",
    "        \n",
    "        return grid\n",
    "        \n",
    "    \n",
    "    def getNodeCoordinates(self, grid, iCoord):\n",
    "        for i in range(self.size):\n",
    "            for j in range(self.size):\n",
    "                if (grid[i][j].getI() == iCoord):\n",
    "                    return grid[i][j].getXY()\n",
    "                "
   ]
  },
  {
   "cell_type": "code",
   "execution_count": 63,
   "metadata": {
    "collapsed": true
   },
   "outputs": [],
   "source": [
    "class node:\n",
    "    \n",
    "    def __init__(self, x, y, i):\n",
    "        self.x = x\n",
    "        self.y = y \n",
    "        self.i = i \n",
    "    \n",
    "    def getI(self):\n",
    "        return self.i\n",
    "    \n",
    "    def getXY(self):\n",
    "        return self.x, self.y\n",
    "    \n",
    "    def printCoordinates(self):\n",
    "        return self.x, self.y, self.i\n",
    "    "
   ]
  },
  {
   "cell_type": "code",
   "execution_count": 67,
   "metadata": {},
   "outputs": [
    {
     "name": "stdout",
     "output_type": "stream",
     "text": [
      "(0, 0, 1) (0, 1, 2) (0, 2, 3) \n",
      "\n",
      "(1, 0, 4) (1, 1, 5) (1, 2, 6) \n",
      "\n",
      "(2, 0, 7) (2, 1, 8) (2, 2, 9) \n",
      "\n",
      "(2, 3)\n",
      "(1, 0)\n"
     ]
    }
   ],
   "source": [
    "# Create object and run the function \n",
    "x= neighbouringNodes(4, False)\n",
    "gridx = x.constructGrid()\n",
    "\n",
    "y= neighbouringNodes(3, True)\n",
    "gridy = y.constructGrid()\n",
    "\n",
    "print(x.getNodeCoordinates(gridx, 12))\n",
    "print(y.getNodeCoordinates(gridy, 4))"
   ]
  },
  {
   "cell_type": "code",
   "execution_count": null,
   "metadata": {
    "collapsed": true
   },
   "outputs": [],
   "source": []
  },
  {
   "cell_type": "code",
   "execution_count": null,
   "metadata": {
    "collapsed": true
   },
   "outputs": [],
   "source": []
  },
  {
   "cell_type": "code",
   "execution_count": null,
   "metadata": {
    "collapsed": true
   },
   "outputs": [],
   "source": []
  }
 ],
 "metadata": {
  "kernelspec": {
   "display_name": "Python 3",
   "language": "python",
   "name": "python3"
  },
  "language_info": {
   "codemirror_mode": {
    "name": "ipython",
    "version": 3
   },
   "file_extension": ".py",
   "mimetype": "text/x-python",
   "name": "python",
   "nbconvert_exporter": "python",
   "pygments_lexer": "ipython3",
   "version": "3.6.3"
  }
 },
 "nbformat": 4,
 "nbformat_minor": 2
}
