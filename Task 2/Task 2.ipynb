{
 "cells": [
  {
   "cell_type": "code",
   "execution_count": 246,
   "metadata": {},
   "outputs": [],
   "source": [
    "from math import sqrt\n",
    "from enum import Enum"
   ]
  },
  {
   "cell_type": "code",
   "execution_count": 442,
   "metadata": {},
   "outputs": [],
   "source": [
    "class neighbouringNodes:\n",
    "    \n",
    "    def __init__(self, size, debug):\n",
    "        self.size = size\n",
    "        self.debug = debug\n",
    "    \n",
    "    def constructGrid(self):\n",
    "        grid = []\n",
    "        count = 1\n",
    "        for i in range(self.size):\n",
    "            row = []\n",
    "            for j in range(self.size):\n",
    "                row.append(node(i,j,count))\n",
    "                count+=1\n",
    "            grid.append(row)             \n",
    "        \n",
    "        if self.debug:\n",
    "            for i in range(self.size):\n",
    "                for j in range(self.size):\n",
    "                    print(grid[i][j].printCoordinates(), end=\" \")\n",
    "                print(\"\\n\") \n",
    "        \n",
    "        return grid\n",
    "        \n",
    "    def getNodeCoordinates(self, grid, iCoord):\n",
    "        for i in range(self.size):\n",
    "            for j in range(self.size):\n",
    "                if (grid[i][j].getI() == iCoord):\n",
    "                    return grid[i][j].getXY()\n",
    "                \n",
    "    def setShape(self, *args):\n",
    "        #Check the number of parameters to identify if i or xy have been entered\n",
    "        if(len(args)) == 5:\n",
    "            grid = args[0]\n",
    "            xCoord = args[1]\n",
    "            yCoord = args[2]\n",
    "            m = args[3]\n",
    "            shapeType = args[4]\n",
    "                    \n",
    "        elif(len(args)) == 4:\n",
    "            grid = args[0]\n",
    "            index = args[1] \n",
    "            m = args[2] \n",
    "            shapeType = args[3]\n",
    "            xCoord = self.getNodeCoordinates(grid, index)[0]\n",
    "            yCoord = self.getNodeCoordinates(grid, index)[1]\n",
    "            \n",
    "        else:\n",
    "            print(\"\\033[0;31;1mPlease enter valid parameters\")\n",
    "            return\n",
    "        \n",
    "        if (xCoord-m)<0 or (yCoord-m)<0 or (xCoord+m)>=self.size or (yCoord+m)>=self.size:\n",
    "                print(\"The given radius exceeds the grid boundaries. Try again.\")\n",
    "                return\n",
    "            \n",
    "        #Set origin and neighbour nodes\n",
    "        grid[xCoord][yCoord].setOrigin()\n",
    "        if(shapeType == \"square\"):\n",
    "            for i in range(xCoord-m, xCoord+m+1, 1):\n",
    "                for j in range(yCoord-m, yCoord+m+1, 1):\n",
    "                    grid[i][j].setNeighbour()\n",
    "        elif(shapeType == \"cross\"):\n",
    "            for i in range(xCoord-m, xCoord+m+1, 1):\n",
    "                grid[i][yCoord].setNeighbour()    \n",
    "            for j in range(yCoord-m, yCoord+m+1, 1):\n",
    "                grid[xCoord][j].setNeighbour()\n",
    "        elif(shapeType == \"diamond\"):\n",
    "            layer=0\n",
    "            for offset in range(m, m-m-1, -1):\n",
    "                for i in range(xCoord-offset, xCoord+offset+1, 1):\n",
    "                        if(layer==0):\n",
    "                            grid[i][yCoord-layer].setNeighbour()\n",
    "                        else:\n",
    "                            grid[i][yCoord-layer].setNeighbour()\n",
    "                            grid[i][yCoord+layer].setNeighbour()\n",
    "                layer+=1\n",
    "        else:\n",
    "            print(\"\\033[0;31;1mPlease enter a valid shape\")\n",
    "            return\n",
    "        \n",
    "        #Print the new grid\n",
    "        print(\"New grid:\")\n",
    "        for i in range(self.size):\n",
    "            for j in range(self.size):\n",
    "                if(gridx[i][j].origin):\n",
    "                    print(\"\\033[0;31;35m\",gridx[i][j].printCoordinates(), end=\"\\033[0;30;0m \")\n",
    "                elif(gridx[i][j].neighbour):\n",
    "                    print(\"\\033[0;31;11m\",gridx[i][j].printCoordinates(), end=\"\\033[0;30;0m \")\n",
    "                else:\n",
    "                    print(gridx[i][j].printCoordinates(), end=\" \")\n",
    "            print(\"\\n\")"
   ]
  },
  {
   "cell_type": "code",
   "execution_count": 443,
   "metadata": {
    "collapsed": true
   },
   "outputs": [],
   "source": [
    "class node:\n",
    "    \n",
    "    def __init__(self, x, y, i):\n",
    "        self.x = x\n",
    "        self.y = y \n",
    "        self.i = i\n",
    "        self.origin = False\n",
    "        self.neighbour= False\n",
    "    \n",
    "    def getI(self):\n",
    "        return self.i\n",
    "    \n",
    "    def getXY(self):\n",
    "        return self.x, self.y\n",
    "    \n",
    "    def printCoordinates(self):\n",
    "        return self.x, self.y, self.i\n",
    "    \n",
    "    def setOrigin(self):\n",
    "        self.origin = True\n",
    "    \n",
    "    def setNeighbour(self):\n",
    "        self.neighbour = True"
   ]
  },
  {
   "cell_type": "code",
   "execution_count": 458,
   "metadata": {},
   "outputs": [
    {
     "name": "stdout",
     "output_type": "stream",
     "text": [
      "(0, 0, 1) (0, 1, 2) (0, 2, 3) (0, 3, 4) (0, 4, 5) (0, 5, 6) (0, 6, 7) \n",
      "\n",
      "(1, 0, 8) (1, 1, 9) (1, 2, 10) (1, 3, 11) (1, 4, 12) (1, 5, 13) (1, 6, 14) \n",
      "\n",
      "(2, 0, 15) (2, 1, 16) (2, 2, 17) (2, 3, 18) (2, 4, 19) (2, 5, 20) (2, 6, 21) \n",
      "\n",
      "(3, 0, 22) (3, 1, 23) (3, 2, 24) (3, 3, 25) (3, 4, 26) (3, 5, 27) (3, 6, 28) \n",
      "\n",
      "(4, 0, 29) (4, 1, 30) (4, 2, 31) (4, 3, 32) (4, 4, 33) (4, 5, 34) (4, 6, 35) \n",
      "\n",
      "(5, 0, 36) (5, 1, 37) (5, 2, 38) (5, 3, 39) (5, 4, 40) (5, 5, 41) (5, 6, 42) \n",
      "\n",
      "(6, 0, 43) (6, 1, 44) (6, 2, 45) (6, 3, 46) (6, 4, 47) (6, 5, 48) (6, 6, 49) \n",
      "\n"
     ]
    }
   ],
   "source": [
    "# Create object and run the function \n",
    "x= neighbouringNodes(7, True)\n",
    "gridx = x.constructGrid()"
   ]
  },
  {
   "cell_type": "code",
   "execution_count": 459,
   "metadata": {},
   "outputs": [
    {
     "name": "stdout",
     "output_type": "stream",
     "text": [
      "Node coordinates: (1, 4)\n"
     ]
    }
   ],
   "source": [
    "print(\"Node coordinates:\", x.getNodeCoordinates(gridx, 12))"
   ]
  },
  {
   "cell_type": "markdown",
   "metadata": {},
   "source": [
    "NOTE: If the arguments are being changed in setShape, the original grid might have to be intialized again in some cases for the changes to show"
   ]
  },
  {
   "cell_type": "code",
   "execution_count": 461,
   "metadata": {
    "scrolled": true
   },
   "outputs": [
    {
     "name": "stdout",
     "output_type": "stream",
     "text": [
      "New grid:\n",
      "(0, 0, 1) (0, 1, 2) (0, 2, 3) \u001b[0;31;11m (0, 3, 4)\u001b[0;30;0m (0, 4, 5) (0, 5, 6) (0, 6, 7) \n",
      "\n",
      "(1, 0, 8) (1, 1, 9) \u001b[0;31;11m (1, 2, 10)\u001b[0;30;0m \u001b[0;31;11m (1, 3, 11)\u001b[0;30;0m \u001b[0;31;11m (1, 4, 12)\u001b[0;30;0m (1, 5, 13) (1, 6, 14) \n",
      "\n",
      "(2, 0, 15) \u001b[0;31;11m (2, 1, 16)\u001b[0;30;0m \u001b[0;31;11m (2, 2, 17)\u001b[0;30;0m \u001b[0;31;11m (2, 3, 18)\u001b[0;30;0m \u001b[0;31;11m (2, 4, 19)\u001b[0;30;0m \u001b[0;31;11m (2, 5, 20)\u001b[0;30;0m (2, 6, 21) \n",
      "\n",
      "\u001b[0;31;11m (3, 0, 22)\u001b[0;30;0m \u001b[0;31;11m (3, 1, 23)\u001b[0;30;0m \u001b[0;31;11m (3, 2, 24)\u001b[0;30;0m \u001b[0;31;35m (3, 3, 25)\u001b[0;30;0m \u001b[0;31;11m (3, 4, 26)\u001b[0;30;0m \u001b[0;31;11m (3, 5, 27)\u001b[0;30;0m \u001b[0;31;11m (3, 6, 28)\u001b[0;30;0m \n",
      "\n",
      "(4, 0, 29) \u001b[0;31;11m (4, 1, 30)\u001b[0;30;0m \u001b[0;31;11m (4, 2, 31)\u001b[0;30;0m \u001b[0;31;11m (4, 3, 32)\u001b[0;30;0m \u001b[0;31;11m (4, 4, 33)\u001b[0;30;0m \u001b[0;31;11m (4, 5, 34)\u001b[0;30;0m (4, 6, 35) \n",
      "\n",
      "(5, 0, 36) (5, 1, 37) \u001b[0;31;11m (5, 2, 38)\u001b[0;30;0m \u001b[0;31;11m (5, 3, 39)\u001b[0;30;0m \u001b[0;31;11m (5, 4, 40)\u001b[0;30;0m (5, 5, 41) (5, 6, 42) \n",
      "\n",
      "(6, 0, 43) (6, 1, 44) (6, 2, 45) \u001b[0;31;11m (6, 3, 46)\u001b[0;30;0m (6, 4, 47) (6, 5, 48) (6, 6, 49) \n",
      "\n"
     ]
    }
   ],
   "source": [
    "#Set shape\n",
    "x.setShape(gridx, 3, 3, 3, \"diamond\")"
   ]
  },
  {
   "cell_type": "code",
   "execution_count": null,
   "metadata": {
    "collapsed": true
   },
   "outputs": [],
   "source": []
  },
  {
   "cell_type": "code",
   "execution_count": null,
   "metadata": {
    "collapsed": true
   },
   "outputs": [],
   "source": []
  },
  {
   "cell_type": "code",
   "execution_count": null,
   "metadata": {
    "collapsed": true
   },
   "outputs": [],
   "source": []
  }
 ],
 "metadata": {
  "kernelspec": {
   "display_name": "Python 3",
   "language": "python",
   "name": "python3"
  },
  "language_info": {
   "codemirror_mode": {
    "name": "ipython",
    "version": 3
   },
   "file_extension": ".py",
   "mimetype": "text/x-python",
   "name": "python",
   "nbconvert_exporter": "python",
   "pygments_lexer": "ipython3",
   "version": "3.6.3"
  }
 },
 "nbformat": 4,
 "nbformat_minor": 2
}
